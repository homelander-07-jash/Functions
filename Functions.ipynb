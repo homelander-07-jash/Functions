{
  "nbformat": 4,
  "nbformat_minor": 0,
  "metadata": {
    "colab": {
      "provenance": []
    },
    "kernelspec": {
      "name": "python3",
      "display_name": "Python 3"
    },
    "language_info": {
      "name": "python"
    }
  },
  "cells": [
    {
      "cell_type": "markdown",
      "source": [
        "#   Functions\n",
        "\n",
        "  1. What is the difference between a function and a method in Python?\n",
        "\n",
        "  -  Function: A block of code that performs a specific task and is not necessarily associated with an object.\n",
        "  \n",
        "  - Method: A function that is associated with an object and is called on that object.\n",
        "\n",
        "  Example:"
      ],
      "metadata": {
        "id": "cKJMdH5YxZ_b"
      }
    },
    {
      "cell_type": "code",
      "source": [
        "def greet():\n",
        "    print(\"Hello\")\n",
        "my_list = [1 , 2 , 3]\n",
        "my_list.append(4)"
      ],
      "metadata": {
        "id": "nkSwYD705XgI"
      },
      "execution_count": 9,
      "outputs": []
    },
    {
      "cell_type": "markdown",
      "source": [
        " 2. Explain the concept of function arguments and parameters in Python.\n",
        "\n",
        " - Parameters: Variables in the function definition.\n",
        " - Arguments: Actual values passed to the function.\n",
        "\n",
        " Example:\n"
      ],
      "metadata": {
        "id": "5hnDawZs6HwX"
      }
    },
    {
      "cell_type": "code",
      "source": [
        "def add(x , y):\n",
        "  return x + y\n",
        "\n",
        "add(5 , 3)"
      ],
      "metadata": {
        "colab": {
          "base_uri": "https://localhost:8080/"
        },
        "id": "djxA8xqE6v67",
        "outputId": "9e10337a-555e-4cc1-acbd-c9d8ecb93471"
      },
      "execution_count": 10,
      "outputs": [
        {
          "output_type": "execute_result",
          "data": {
            "text/plain": [
              "8"
            ]
          },
          "metadata": {},
          "execution_count": 10
        }
      ]
    },
    {
      "cell_type": "markdown",
      "source": [
        "3. What are the different ways to define and call a function in Python?\n",
        "\n",
        "- Using def, lambda, positional, and keyword arguments.\n",
        "\n",
        "Example:"
      ],
      "metadata": {
        "id": "9GhX7aZV7GYt"
      }
    },
    {
      "cell_type": "code",
      "source": [
        "def greet(name=\"Guest\"):\n",
        "  print(\"Hello\", name)\n",
        "\n",
        "  greet()\n",
        "\n",
        "  greet(\"Alice\")\n",
        "\n",
        "  greet(name=\"Bob\" )"
      ],
      "metadata": {
        "id": "jJdnS72Q7dBw"
      },
      "execution_count": 13,
      "outputs": []
    },
    {
      "cell_type": "markdown",
      "source": [
        " 4. What is the purpose of the return statement in a Python function?\n",
        "\n",
        " - it is used to return a value from a function to the caller.\n",
        "\n",
        " Example:"
      ],
      "metadata": {
        "id": "ybpTI5lT8KGE"
      }
    },
    {
      "cell_type": "code",
      "source": [
        "def square(x):\n",
        "    return x * x\n",
        "\n",
        "result = square(4)\n"
      ],
      "metadata": {
        "id": "QZzvV4Sy85iz"
      },
      "execution_count": 14,
      "outputs": []
    },
    {
      "cell_type": "markdown",
      "source": [
        "5. What are iterators in Python and how do they differ from iterables?\n",
        "\n",
        "- Iterable: An object capable of returning its elements one by one (like list, tuple).\n",
        "\n",
        "- Iterator: An object with a state, which remembers where it is during iteration and implements __next__() and __iter__().\n",
        "\n",
        "Example:\n"
      ],
      "metadata": {
        "id": "c9eTNPnL9HEz"
      }
    },
    {
      "cell_type": "code",
      "source": [
        "lst = [1, 2, 3]         # Iterable\n",
        "it = iter(lst)          # Iterator\n",
        "print(next(it))         # Output: 1\n"
      ],
      "metadata": {
        "colab": {
          "base_uri": "https://localhost:8080/"
        },
        "id": "Aw-hUjmu92W7",
        "outputId": "20d78edb-b94e-4604-b38f-9a3f85a14d2d"
      },
      "execution_count": 15,
      "outputs": [
        {
          "output_type": "stream",
          "name": "stdout",
          "text": [
            "1\n"
          ]
        }
      ]
    },
    {
      "cell_type": "markdown",
      "source": [
        " 6. Explain the concept of generators in Python and how they are defined.\n",
        "\n",
        "- Generators are a type of iterable that yield items one at a time using the yield keyword.\n",
        "\n",
        "Example:"
      ],
      "metadata": {
        "id": "redsIAvu98vO"
      }
    },
    {
      "cell_type": "code",
      "source": [
        "def gen_numbers():\n",
        "    for i in range(3):\n",
        "        yield i\n",
        "\n",
        "gen = gen_numbers()\n"
      ],
      "metadata": {
        "id": "RvmnlmUX-SSF"
      },
      "execution_count": 16,
      "outputs": []
    },
    {
      "cell_type": "markdown",
      "source": [
        "7. What are the advantages of using generators over regular functions?\n",
        "\n",
        "- Memory efficient (don’t store all values in memory).\n",
        "\n",
        "- Useful for large data streams.\n",
        "\n",
        "- Lazy evaluation.\n",
        "\n",
        "\n",
        " 8. What is a lambda function in Python and when is it typically used?\n",
        "\n",
        " - An anonymous (nameless) function defined with lambda.\n",
        "Used for short, simple functions, often as arguments to higher-order functions.\n",
        "\n",
        "Example:"
      ],
      "metadata": {
        "id": "6MwDQmOA-X6f"
      }
    },
    {
      "cell_type": "code",
      "source": [
        "square = lambda x: x * x\n",
        "print(square(5))  # Output: 25\n"
      ],
      "metadata": {
        "colab": {
          "base_uri": "https://localhost:8080/"
        },
        "id": "XVdaAdls_NxE",
        "outputId": "10a004ce-ad03-4379-b3d9-a5958297cfd0"
      },
      "execution_count": 17,
      "outputs": [
        {
          "output_type": "stream",
          "name": "stdout",
          "text": [
            "25\n"
          ]
        }
      ]
    },
    {
      "cell_type": "markdown",
      "source": [
        " 9. Explain the purpose and usage of the map() function in Python.\n",
        "\n",
        " - map() applies a given function to all items in an iterable.\n",
        "\n",
        " Example:"
      ],
      "metadata": {
        "id": "BdSQQg6d_Sk6"
      }
    },
    {
      "cell_type": "code",
      "source": [
        "nums = [1, 2, 3]\n",
        "squared = list(map(lambda x: x*x, nums))\n",
        "print(squared)  # [1, 4, 9]\n"
      ],
      "metadata": {
        "colab": {
          "base_uri": "https://localhost:8080/"
        },
        "id": "gshoDLS6_vFM",
        "outputId": "8e3d3809-1ac6-49f7-baeb-e199e23e1f9e"
      },
      "execution_count": 18,
      "outputs": [
        {
          "output_type": "stream",
          "name": "stdout",
          "text": [
            "[1, 4, 9]\n"
          ]
        }
      ]
    },
    {
      "cell_type": "markdown",
      "source": [
        "10. What is the difference between map(), reduce(), and filter() functions in Python?\n",
        "\n",
        "- map(): Applies a function to every item in an iterable.\n",
        "\n",
        "- filter(): Filters items for which the function returns True.\n",
        "\n",
        "- reduce(): Applies a rolling computation to pairs of values (from functools).\n",
        "\n",
        "Example:"
      ],
      "metadata": {
        "id": "niVrRva6_1BG"
      }
    },
    {
      "cell_type": "code",
      "source": [
        "from functools import reduce\n",
        "\n",
        "nums = [1, 2, 3, 4]\n",
        "map_result = list(map(lambda x: x*2, nums))\n",
        "filter_result = list(filter(lambda x: x%2 == 0, nums))\n",
        "reduce_result = reduce(lambda x, y: x + y, nums)\n",
        "\n",
        "print(map_result)     # [2, 4, 6, 8]\n",
        "print(filter_result)  # [2, 4]\n",
        "print(reduce_result)  # 10\n"
      ],
      "metadata": {
        "colab": {
          "base_uri": "https://localhost:8080/"
        },
        "id": "yUdu_mQ9AJ0P",
        "outputId": "eaf12511-3a0d-4594-f9da-1d31ec4db814"
      },
      "execution_count": 19,
      "outputs": [
        {
          "output_type": "stream",
          "name": "stdout",
          "text": [
            "[2, 4, 6, 8]\n",
            "[2, 4]\n",
            "10\n"
          ]
        }
      ]
    },
    {
      "cell_type": "markdown",
      "source": [
        "11. Internal mechanism for sum using reduce on [47, 11, 42, 13]:\n",
        "- Step 1: 47 + 11 = 58\n",
        "- Step 2: 58 + 42 = 100\n",
        "- Step 3: 100 + 13 = 113\n",
        "- Final Result: 113.\n",
        "\n",
        "Example:"
      ],
      "metadata": {
        "id": "hD-znJ3XAR9B"
      }
    },
    {
      "cell_type": "code",
      "source": [
        "# Internal Mechanism of reduce() on [47, 11, 42, 13]\n",
        "\n",
        "from functools import reduce\n",
        "\n",
        "# Original list\n",
        "numbers = [47, 11, 42, 13]\n",
        "\n",
        "# Custom reduce function with step tracking\n",
        "def step_sum(x, y):\n",
        "    print(f\"{x} + {y} = {x + y}\")\n",
        "    return x + y\n",
        "\n",
        "# Apply reduce with step_sum\n",
        "result = reduce(step_sum, numbers)\n",
        "\n",
        "print(\"Final Result:\", result)\n"
      ],
      "metadata": {
        "colab": {
          "base_uri": "https://localhost:8080/"
        },
        "id": "JT9JrXcUCf43",
        "outputId": "2181be35-f96a-4927-f96d-6e992f810d05"
      },
      "execution_count": 20,
      "outputs": [
        {
          "output_type": "stream",
          "name": "stdout",
          "text": [
            "47 + 11 = 58\n",
            "58 + 42 = 100\n",
            "100 + 13 = 113\n",
            "Final Result: 113\n"
          ]
        }
      ]
    },
    {
      "cell_type": "markdown",
      "source": [
        "# Practical Questions:"
      ],
      "metadata": {
        "id": "aBfsHeWqCtRG"
      }
    },
    {
      "cell_type": "code",
      "source": [
        "# 1. Write a Python function that takes a list of numbers as input and returns the sum of all even numbers in the list.\n",
        "\n",
        "def sum_even_numbers(numbers):\n",
        "    return sum(num for num in numbers if num % 2 == 0)\n"
      ],
      "metadata": {
        "id": "dUKY5jhsC3Xt"
      },
      "execution_count": 21,
      "outputs": []
    },
    {
      "cell_type": "code",
      "source": [
        "#  2. Create a Python function that accepts a string and returns the reverse of that string.\n",
        "\n",
        "def reverse_string(s):\n",
        "    return s[::-1]\n"
      ],
      "metadata": {
        "id": "Y3mMtqq_Dyeh"
      },
      "execution_count": 22,
      "outputs": []
    },
    {
      "cell_type": "code",
      "source": [
        "#  3. Implement a Python function that takes a list of integers and returns a new list containing the squares of each number.\n",
        "\n",
        "def square_list(numbers):\n",
        "    return [num ** 2 for num in numbers]\n",
        "\n"
      ],
      "metadata": {
        "id": "E3YgkYCyD-lW"
      },
      "execution_count": 23,
      "outputs": []
    },
    {
      "cell_type": "code",
      "source": [
        "#  4. Write a Python function that checks if a given number is prime or not from 1 to 200.\n",
        "\n",
        "def is_prime(n):\n",
        "    if n < 2:\n",
        "        return False\n",
        "    for i in range(2, int(n ** 0.5) + 1):\n",
        "        if n % i == 0:\n",
        "            return False\n",
        "    return True\n"
      ],
      "metadata": {
        "id": "EWgWZ7DAEbo4"
      },
      "execution_count": 24,
      "outputs": []
    },
    {
      "cell_type": "code",
      "source": [
        "#  5. Create an iterator class in Python that generates the Fibonacci sequence up to a specified number of terms.\n",
        "\n",
        "class Fibonacci:\n",
        "    def __init__(self, n_terms):\n",
        "        self.n_terms = n_terms\n",
        "        self.a, self.b = 0, 1\n",
        "        self.count = 0\n",
        "\n",
        "    def __iter__(self):\n",
        "        return self\n",
        "\n",
        "    def __next__(self):\n",
        "        if self.count >= self.n_terms:\n",
        "            raise StopIteration\n",
        "        result = self.a\n",
        "        self.a, self.b = self.b, self.a + self.b\n",
        "        self.count += 1\n",
        "        return result\n"
      ],
      "metadata": {
        "id": "8BhQ_NjDEmr4"
      },
      "execution_count": 25,
      "outputs": []
    },
    {
      "cell_type": "code",
      "source": [
        "#  6. Write a generator function in Python that yields the powers of 2 up to a given exponent.\n",
        "\n",
        "def powers_of_two(max_exponent):\n",
        "    for i in range(max_exponent + 1):\n",
        "        yield 2 ** i\n"
      ],
      "metadata": {
        "id": "4Cpk-5SkExxb"
      },
      "execution_count": 26,
      "outputs": []
    },
    {
      "cell_type": "code",
      "source": [
        "#  7. Implement a generator function that reads a file line by line and yields each line as a string.\n",
        "\n",
        "def read_file_lines(filename):\n",
        "    with open(filename, 'r') as file:\n",
        "        for line in file:\n",
        "            yield line.strip()\n"
      ],
      "metadata": {
        "id": "hg0h3o1aE60_"
      },
      "execution_count": 27,
      "outputs": []
    },
    {
      "cell_type": "code",
      "source": [
        "#  8. Use a lambda function in Python to sort a list of tuples based on the second element of each tuple.\n",
        "\n",
        "data = [(1, 3), (2, 1), (3, 2)]\n",
        "sorted_data = sorted(data, key=lambda x: x[1])\n"
      ],
      "metadata": {
        "id": "A9jkoBHsFFzI"
      },
      "execution_count": 28,
      "outputs": []
    },
    {
      "cell_type": "code",
      "source": [
        "#  9. Write a Python program that uses `map()` to convert a list of temperatures from Celsius to Fahrenheit.\n",
        "\n",
        "celsius = [0, 20, 30, 40]\n",
        "fahrenheit = list(map(lambda c: (c * 9/5) + 32, celsius))\n"
      ],
      "metadata": {
        "id": "gg7f5kxyFP55"
      },
      "execution_count": 29,
      "outputs": []
    },
    {
      "cell_type": "code",
      "source": [
        "#  10. Create a Python program that uses `filter()` to remove all the vowels from a given string.\n",
        "\n",
        "def remove_vowels(s):\n",
        "    return ''.join(filter(lambda c: c.lower() not in 'aeiou', s))\n"
      ],
      "metadata": {
        "id": "3WTUhzypFfCz"
      },
      "execution_count": 30,
      "outputs": []
    },
    {
      "cell_type": "code",
      "source": [
        "# 11) Imagine an accounting routine used in a book shop. It works on a list with sublists, which look like this:\n",
        "\n",
        "orders = [\n",
        "    [34587, \"Learning Python, Mark Lutz\", 4, 40.95],\n",
        "    [98762, \"Programming Python, Mark Lutz\", 5, 56.80],\n",
        "    [77226, \"Head First Python, Paul Barry\", 3, 32.95],\n",
        "    [88112, \"Einführung in Python3, Bernd Klein\", 3, 24.99]\n",
        "]\n",
        "\n",
        "invoice = list(map(lambda order: (\n",
        "    order[0],\n",
        "    round(order[2] * order[3] + 10 if order[2] * order[3] < 100 else order[2] * order[3], 2)\n",
        "), orders))\n"
      ],
      "metadata": {
        "id": "Dxqdwn2kFoz4"
      },
      "execution_count": 31,
      "outputs": []
    }
  ]
}